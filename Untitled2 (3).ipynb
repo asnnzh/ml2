{
 "cells": [
  {
   "cell_type": "code",
   "execution_count": 1,
   "id": "170ebb83-1984-4cbd-a3f6-808fb4fe388e",
   "metadata": {},
   "outputs": [],
   "source": [
    "import pandas as pd\n",
    "import numpy as np\n",
    "import matplotlib.pyplot as plt\n",
    "import seaborn as sns\n",
    "from sklearn.model_selection import train_test_split\n",
    "from sklearn.linear_model import LinearRegression\n",
    "from sklearn import metrics\n",
    "from sklearn.metrics import r2_score\n",
    "from sklearn.metrics import accuracy_score\n",
    "from sklearn.metrics import mean_squared_error\n",
    "from sklearn.metrics import mean_absolute_percentage_error\n",
    "from sklearn.tree import DecisionTreeClassifier\n",
    "from sklearn.metrics import confusion_matrix\n",
    "from sklearn.metrics import precision_score\n",
    "from sklearn.metrics import recall_score\n",
    "from sklearn.metrics import f1_score"
   ]
  },
  {
   "cell_type": "markdown",
   "id": "aa463a1f-42eb-4cba-a954-930e41530736",
   "metadata": {},
   "source": [
    "## **1. Build a dataset according to the DataSet table. You choose the observed process yourself.**"
   ]
  },
  {
   "cell_type": "code",
   "execution_count": 2,
   "id": "cc93290b-6c8e-4065-8c7e-1ed98622e01a",
   "metadata": {},
   "outputs": [
    {
     "data": {
      "text/html": [
       "<div>\n",
       "<style scoped>\n",
       "    .dataframe tbody tr th:only-of-type {\n",
       "        vertical-align: middle;\n",
       "    }\n",
       "\n",
       "    .dataframe tbody tr th {\n",
       "        vertical-align: top;\n",
       "    }\n",
       "\n",
       "    .dataframe thead th {\n",
       "        text-align: right;\n",
       "    }\n",
       "</style>\n",
       "<table border=\"1\" class=\"dataframe\">\n",
       "  <thead>\n",
       "    <tr style=\"text-align: right;\">\n",
       "      <th></th>\n",
       "      <th>name</th>\n",
       "      <th>year</th>\n",
       "      <th>selling_price</th>\n",
       "      <th>km_driven</th>\n",
       "      <th>fuel</th>\n",
       "      <th>seller_type</th>\n",
       "      <th>transmission</th>\n",
       "      <th>owner</th>\n",
       "    </tr>\n",
       "  </thead>\n",
       "  <tbody>\n",
       "    <tr>\n",
       "      <th>0</th>\n",
       "      <td>Maruti 800 AC</td>\n",
       "      <td>2007</td>\n",
       "      <td>60000</td>\n",
       "      <td>70000</td>\n",
       "      <td>Petrol</td>\n",
       "      <td>Individual</td>\n",
       "      <td>Manual</td>\n",
       "      <td>First Owner</td>\n",
       "    </tr>\n",
       "    <tr>\n",
       "      <th>1</th>\n",
       "      <td>Maruti Wagon R LXI Minor</td>\n",
       "      <td>2007</td>\n",
       "      <td>135000</td>\n",
       "      <td>50000</td>\n",
       "      <td>Petrol</td>\n",
       "      <td>Individual</td>\n",
       "      <td>Manual</td>\n",
       "      <td>First Owner</td>\n",
       "    </tr>\n",
       "    <tr>\n",
       "      <th>2</th>\n",
       "      <td>Hyundai Verna 1.6 SX</td>\n",
       "      <td>2012</td>\n",
       "      <td>600000</td>\n",
       "      <td>100000</td>\n",
       "      <td>Diesel</td>\n",
       "      <td>Individual</td>\n",
       "      <td>Manual</td>\n",
       "      <td>First Owner</td>\n",
       "    </tr>\n",
       "    <tr>\n",
       "      <th>3</th>\n",
       "      <td>Datsun RediGO T Option</td>\n",
       "      <td>2017</td>\n",
       "      <td>250000</td>\n",
       "      <td>46000</td>\n",
       "      <td>Petrol</td>\n",
       "      <td>Individual</td>\n",
       "      <td>Manual</td>\n",
       "      <td>First Owner</td>\n",
       "    </tr>\n",
       "    <tr>\n",
       "      <th>4</th>\n",
       "      <td>Honda Amaze VX i-DTEC</td>\n",
       "      <td>2014</td>\n",
       "      <td>450000</td>\n",
       "      <td>141000</td>\n",
       "      <td>Diesel</td>\n",
       "      <td>Individual</td>\n",
       "      <td>Manual</td>\n",
       "      <td>Second Owner</td>\n",
       "    </tr>\n",
       "  </tbody>\n",
       "</table>\n",
       "</div>"
      ],
      "text/plain": [
       "                       name  year  selling_price  km_driven    fuel  \\\n",
       "0             Maruti 800 AC  2007          60000      70000  Petrol   \n",
       "1  Maruti Wagon R LXI Minor  2007         135000      50000  Petrol   \n",
       "2      Hyundai Verna 1.6 SX  2012         600000     100000  Diesel   \n",
       "3    Datsun RediGO T Option  2017         250000      46000  Petrol   \n",
       "4     Honda Amaze VX i-DTEC  2014         450000     141000  Diesel   \n",
       "\n",
       "  seller_type transmission         owner  \n",
       "0  Individual       Manual   First Owner  \n",
       "1  Individual       Manual   First Owner  \n",
       "2  Individual       Manual   First Owner  \n",
       "3  Individual       Manual   First Owner  \n",
       "4  Individual       Manual  Second Owner  "
      ]
     },
     "execution_count": 2,
     "metadata": {},
     "output_type": "execute_result"
    }
   ],
   "source": [
    "df = pd.read_csv('car_details.csv')\n",
    "df.head()"
   ]
  },
  {
   "cell_type": "code",
   "execution_count": 3,
   "id": "32b8e801-2a15-4319-afe7-7c68d192490d",
   "metadata": {},
   "outputs": [],
   "source": [
    "#https://www.kaggle.com/datasets/akshaydattatraykhare/car-details-dataset linf of dataset"
   ]
  },
  {
   "cell_type": "code",
   "execution_count": 4,
   "id": "5e79818e-1865-4b62-9beb-698e67f16d58",
   "metadata": {},
   "outputs": [
    {
     "data": {
      "text/plain": [
       "(4340, 8)"
      ]
     },
     "execution_count": 4,
     "metadata": {},
     "output_type": "execute_result"
    }
   ],
   "source": [
    "df.shape # show number of rows and columns"
   ]
  },
  {
   "cell_type": "code",
   "execution_count": 5,
   "id": "871a46a1-e807-4b5c-8588-c6702153bf21",
   "metadata": {},
   "outputs": [
    {
     "data": {
      "text/plain": [
       "First Owner             2832\n",
       "Second Owner            1106\n",
       "Third Owner              304\n",
       "Fourth & Above Owner      81\n",
       "Test Drive Car            17\n",
       "Name: owner, dtype: int64"
      ]
     },
     "execution_count": 5,
     "metadata": {},
     "output_type": "execute_result"
    }
   ],
   "source": [
    "df.owner.value_counts() #counts number of owners for replase to integer"
   ]
  },
  {
   "cell_type": "code",
   "execution_count": 6,
   "id": "d0d90f5f-4c61-4035-8729-56bc0fa9be03",
   "metadata": {},
   "outputs": [],
   "source": [
    "df['owner'] = df['owner'].str.replace('First Owner', '1')\n",
    "df['owner'] = df['owner'].str.replace('Second Owner', '2')\n",
    "df['owner'] = df['owner'].str.replace('Third Owner', '3')\n",
    "df['owner'] = df['owner'].str.replace('Fourth & Above Owner', '4')\n",
    "df['owner'] = df['owner'].str.replace('Test Drive Car', '0')"
   ]
  },
  {
   "cell_type": "code",
   "execution_count": 7,
   "id": "4c9e432c-1abc-498e-9b14-e88477ac9e09",
   "metadata": {},
   "outputs": [
    {
     "data": {
      "text/html": [
       "<div>\n",
       "<style scoped>\n",
       "    .dataframe tbody tr th:only-of-type {\n",
       "        vertical-align: middle;\n",
       "    }\n",
       "\n",
       "    .dataframe tbody tr th {\n",
       "        vertical-align: top;\n",
       "    }\n",
       "\n",
       "    .dataframe thead th {\n",
       "        text-align: right;\n",
       "    }\n",
       "</style>\n",
       "<table border=\"1\" class=\"dataframe\">\n",
       "  <thead>\n",
       "    <tr style=\"text-align: right;\">\n",
       "      <th></th>\n",
       "      <th>name</th>\n",
       "      <th>year</th>\n",
       "      <th>selling_price</th>\n",
       "      <th>km_driven</th>\n",
       "      <th>fuel</th>\n",
       "      <th>seller_type</th>\n",
       "      <th>transmission</th>\n",
       "      <th>owner</th>\n",
       "    </tr>\n",
       "  </thead>\n",
       "  <tbody>\n",
       "    <tr>\n",
       "      <th>0</th>\n",
       "      <td>Maruti 800 AC</td>\n",
       "      <td>2007</td>\n",
       "      <td>60000</td>\n",
       "      <td>70000</td>\n",
       "      <td>Petrol</td>\n",
       "      <td>Individual</td>\n",
       "      <td>Manual</td>\n",
       "      <td>1</td>\n",
       "    </tr>\n",
       "    <tr>\n",
       "      <th>1</th>\n",
       "      <td>Maruti Wagon R LXI Minor</td>\n",
       "      <td>2007</td>\n",
       "      <td>135000</td>\n",
       "      <td>50000</td>\n",
       "      <td>Petrol</td>\n",
       "      <td>Individual</td>\n",
       "      <td>Manual</td>\n",
       "      <td>1</td>\n",
       "    </tr>\n",
       "    <tr>\n",
       "      <th>2</th>\n",
       "      <td>Hyundai Verna 1.6 SX</td>\n",
       "      <td>2012</td>\n",
       "      <td>600000</td>\n",
       "      <td>100000</td>\n",
       "      <td>Diesel</td>\n",
       "      <td>Individual</td>\n",
       "      <td>Manual</td>\n",
       "      <td>1</td>\n",
       "    </tr>\n",
       "    <tr>\n",
       "      <th>3</th>\n",
       "      <td>Datsun RediGO T Option</td>\n",
       "      <td>2017</td>\n",
       "      <td>250000</td>\n",
       "      <td>46000</td>\n",
       "      <td>Petrol</td>\n",
       "      <td>Individual</td>\n",
       "      <td>Manual</td>\n",
       "      <td>1</td>\n",
       "    </tr>\n",
       "    <tr>\n",
       "      <th>4</th>\n",
       "      <td>Honda Amaze VX i-DTEC</td>\n",
       "      <td>2014</td>\n",
       "      <td>450000</td>\n",
       "      <td>141000</td>\n",
       "      <td>Diesel</td>\n",
       "      <td>Individual</td>\n",
       "      <td>Manual</td>\n",
       "      <td>2</td>\n",
       "    </tr>\n",
       "    <tr>\n",
       "      <th>...</th>\n",
       "      <td>...</td>\n",
       "      <td>...</td>\n",
       "      <td>...</td>\n",
       "      <td>...</td>\n",
       "      <td>...</td>\n",
       "      <td>...</td>\n",
       "      <td>...</td>\n",
       "      <td>...</td>\n",
       "    </tr>\n",
       "    <tr>\n",
       "      <th>4335</th>\n",
       "      <td>Hyundai i20 Magna 1.4 CRDi (Diesel)</td>\n",
       "      <td>2014</td>\n",
       "      <td>409999</td>\n",
       "      <td>80000</td>\n",
       "      <td>Diesel</td>\n",
       "      <td>Individual</td>\n",
       "      <td>Manual</td>\n",
       "      <td>2</td>\n",
       "    </tr>\n",
       "    <tr>\n",
       "      <th>4336</th>\n",
       "      <td>Hyundai i20 Magna 1.4 CRDi</td>\n",
       "      <td>2014</td>\n",
       "      <td>409999</td>\n",
       "      <td>80000</td>\n",
       "      <td>Diesel</td>\n",
       "      <td>Individual</td>\n",
       "      <td>Manual</td>\n",
       "      <td>2</td>\n",
       "    </tr>\n",
       "    <tr>\n",
       "      <th>4337</th>\n",
       "      <td>Maruti 800 AC BSIII</td>\n",
       "      <td>2009</td>\n",
       "      <td>110000</td>\n",
       "      <td>83000</td>\n",
       "      <td>Petrol</td>\n",
       "      <td>Individual</td>\n",
       "      <td>Manual</td>\n",
       "      <td>2</td>\n",
       "    </tr>\n",
       "    <tr>\n",
       "      <th>4338</th>\n",
       "      <td>Hyundai Creta 1.6 CRDi SX Option</td>\n",
       "      <td>2016</td>\n",
       "      <td>865000</td>\n",
       "      <td>90000</td>\n",
       "      <td>Diesel</td>\n",
       "      <td>Individual</td>\n",
       "      <td>Manual</td>\n",
       "      <td>1</td>\n",
       "    </tr>\n",
       "    <tr>\n",
       "      <th>4339</th>\n",
       "      <td>Renault KWID RXT</td>\n",
       "      <td>2016</td>\n",
       "      <td>225000</td>\n",
       "      <td>40000</td>\n",
       "      <td>Petrol</td>\n",
       "      <td>Individual</td>\n",
       "      <td>Manual</td>\n",
       "      <td>1</td>\n",
       "    </tr>\n",
       "  </tbody>\n",
       "</table>\n",
       "<p>4340 rows × 8 columns</p>\n",
       "</div>"
      ],
      "text/plain": [
       "                                     name  year  selling_price  km_driven  \\\n",
       "0                           Maruti 800 AC  2007          60000      70000   \n",
       "1                Maruti Wagon R LXI Minor  2007         135000      50000   \n",
       "2                    Hyundai Verna 1.6 SX  2012         600000     100000   \n",
       "3                  Datsun RediGO T Option  2017         250000      46000   \n",
       "4                   Honda Amaze VX i-DTEC  2014         450000     141000   \n",
       "...                                   ...   ...            ...        ...   \n",
       "4335  Hyundai i20 Magna 1.4 CRDi (Diesel)  2014         409999      80000   \n",
       "4336           Hyundai i20 Magna 1.4 CRDi  2014         409999      80000   \n",
       "4337                  Maruti 800 AC BSIII  2009         110000      83000   \n",
       "4338     Hyundai Creta 1.6 CRDi SX Option  2016         865000      90000   \n",
       "4339                     Renault KWID RXT  2016         225000      40000   \n",
       "\n",
       "        fuel seller_type transmission owner  \n",
       "0     Petrol  Individual       Manual     1  \n",
       "1     Petrol  Individual       Manual     1  \n",
       "2     Diesel  Individual       Manual     1  \n",
       "3     Petrol  Individual       Manual     1  \n",
       "4     Diesel  Individual       Manual     2  \n",
       "...      ...         ...          ...   ...  \n",
       "4335  Diesel  Individual       Manual     2  \n",
       "4336  Diesel  Individual       Manual     2  \n",
       "4337  Petrol  Individual       Manual     2  \n",
       "4338  Diesel  Individual       Manual     1  \n",
       "4339  Petrol  Individual       Manual     1  \n",
       "\n",
       "[4340 rows x 8 columns]"
      ]
     },
     "execution_count": 7,
     "metadata": {},
     "output_type": "execute_result"
    }
   ],
   "source": [
    "df"
   ]
  },
  {
   "cell_type": "markdown",
   "id": "8c0ef5cb-52da-4b75-a0d1-eb1d06922f12",
   "metadata": {},
   "source": [
    "## **2. Build a linear regression based on a data set. You choose the feature and target columns yourself.**"
   ]
  },
  {
   "cell_type": "code",
   "execution_count": 8,
   "id": "be7dab49-6079-4a1f-9602-fcdda11e82b5",
   "metadata": {},
   "outputs": [],
   "source": [
    "x = df[['year', 'km_driven', 'owner']] #features\n",
    "y = df['selling_price'] #target"
   ]
  },
  {
   "cell_type": "code",
   "execution_count": 9,
   "id": "c877a4b3-a77e-457c-acf6-47f60393d912",
   "metadata": {},
   "outputs": [
    {
     "data": {
      "text/html": [
       "<div>\n",
       "<style scoped>\n",
       "    .dataframe tbody tr th:only-of-type {\n",
       "        vertical-align: middle;\n",
       "    }\n",
       "\n",
       "    .dataframe tbody tr th {\n",
       "        vertical-align: top;\n",
       "    }\n",
       "\n",
       "    .dataframe thead th {\n",
       "        text-align: right;\n",
       "    }\n",
       "</style>\n",
       "<table border=\"1\" class=\"dataframe\">\n",
       "  <thead>\n",
       "    <tr style=\"text-align: right;\">\n",
       "      <th></th>\n",
       "      <th>year</th>\n",
       "      <th>km_driven</th>\n",
       "      <th>owner</th>\n",
       "    </tr>\n",
       "  </thead>\n",
       "  <tbody>\n",
       "    <tr>\n",
       "      <th>0</th>\n",
       "      <td>2007</td>\n",
       "      <td>70000</td>\n",
       "      <td>1</td>\n",
       "    </tr>\n",
       "    <tr>\n",
       "      <th>1</th>\n",
       "      <td>2007</td>\n",
       "      <td>50000</td>\n",
       "      <td>1</td>\n",
       "    </tr>\n",
       "    <tr>\n",
       "      <th>2</th>\n",
       "      <td>2012</td>\n",
       "      <td>100000</td>\n",
       "      <td>1</td>\n",
       "    </tr>\n",
       "    <tr>\n",
       "      <th>3</th>\n",
       "      <td>2017</td>\n",
       "      <td>46000</td>\n",
       "      <td>1</td>\n",
       "    </tr>\n",
       "    <tr>\n",
       "      <th>4</th>\n",
       "      <td>2014</td>\n",
       "      <td>141000</td>\n",
       "      <td>2</td>\n",
       "    </tr>\n",
       "    <tr>\n",
       "      <th>...</th>\n",
       "      <td>...</td>\n",
       "      <td>...</td>\n",
       "      <td>...</td>\n",
       "    </tr>\n",
       "    <tr>\n",
       "      <th>4335</th>\n",
       "      <td>2014</td>\n",
       "      <td>80000</td>\n",
       "      <td>2</td>\n",
       "    </tr>\n",
       "    <tr>\n",
       "      <th>4336</th>\n",
       "      <td>2014</td>\n",
       "      <td>80000</td>\n",
       "      <td>2</td>\n",
       "    </tr>\n",
       "    <tr>\n",
       "      <th>4337</th>\n",
       "      <td>2009</td>\n",
       "      <td>83000</td>\n",
       "      <td>2</td>\n",
       "    </tr>\n",
       "    <tr>\n",
       "      <th>4338</th>\n",
       "      <td>2016</td>\n",
       "      <td>90000</td>\n",
       "      <td>1</td>\n",
       "    </tr>\n",
       "    <tr>\n",
       "      <th>4339</th>\n",
       "      <td>2016</td>\n",
       "      <td>40000</td>\n",
       "      <td>1</td>\n",
       "    </tr>\n",
       "  </tbody>\n",
       "</table>\n",
       "<p>4340 rows × 3 columns</p>\n",
       "</div>"
      ],
      "text/plain": [
       "      year  km_driven owner\n",
       "0     2007      70000     1\n",
       "1     2007      50000     1\n",
       "2     2012     100000     1\n",
       "3     2017      46000     1\n",
       "4     2014     141000     2\n",
       "...    ...        ...   ...\n",
       "4335  2014      80000     2\n",
       "4336  2014      80000     2\n",
       "4337  2009      83000     2\n",
       "4338  2016      90000     1\n",
       "4339  2016      40000     1\n",
       "\n",
       "[4340 rows x 3 columns]"
      ]
     },
     "execution_count": 9,
     "metadata": {},
     "output_type": "execute_result"
    }
   ],
   "source": [
    "x"
   ]
  },
  {
   "cell_type": "code",
   "execution_count": 10,
   "id": "fd8bd0d5-82ef-4dff-8114-685163fcdc2c",
   "metadata": {},
   "outputs": [
    {
     "data": {
      "text/plain": [
       "0        60000\n",
       "1       135000\n",
       "2       600000\n",
       "3       250000\n",
       "4       450000\n",
       "         ...  \n",
       "4335    409999\n",
       "4336    409999\n",
       "4337    110000\n",
       "4338    865000\n",
       "4339    225000\n",
       "Name: selling_price, Length: 4340, dtype: int64"
      ]
     },
     "execution_count": 10,
     "metadata": {},
     "output_type": "execute_result"
    }
   ],
   "source": [
    "y"
   ]
  },
  {
   "cell_type": "code",
   "execution_count": 11,
   "id": "a3d9efbd-e174-4a9d-b20c-c832ef40f4ea",
   "metadata": {},
   "outputs": [],
   "source": [
    "X_train, X_test, y_train, y_test = train_test_split(x,y,test_size=0.1) # delit dataset na train i test"
   ]
  },
  {
   "cell_type": "code",
   "execution_count": 12,
   "id": "b57284d1-50db-45db-b0df-1bd60a07b4a2",
   "metadata": {},
   "outputs": [
    {
     "data": {
      "text/plain": [
       "LinearRegression()"
      ]
     },
     "execution_count": 12,
     "metadata": {},
     "output_type": "execute_result"
    }
   ],
   "source": [
    "model = LinearRegression() \n",
    "model.fit(X_train,y_train)\n",
    "LinearRegression() "
   ]
  },
  {
   "cell_type": "markdown",
   "id": "e540710d-095b-4e74-8003-e96edcfb757d",
   "metadata": {},
   "source": [
    "## **3. Get a forecast for observation based on linear regression (a row instance of a dataset).**"
   ]
  },
  {
   "cell_type": "code",
   "execution_count": 13,
   "id": "100f17ad-163c-4ef1-b2ec-b87cdbad598c",
   "metadata": {},
   "outputs": [],
   "source": [
    "y_pred = model.predict(X_test)\n",
    "#y_pred"
   ]
  },
  {
   "cell_type": "code",
   "execution_count": 14,
   "id": "d1f3f0f5-5025-4479-9918-69316f9d521d",
   "metadata": {},
   "outputs": [
    {
     "data": {
      "text/plain": [
       "367291788312.00995"
      ]
     },
     "execution_count": 14,
     "metadata": {},
     "output_type": "execute_result"
    }
   ],
   "source": [
    "MSE = mean_squared_error(y_test, y_pred)\n",
    "MSE"
   ]
  },
  {
   "cell_type": "code",
   "execution_count": 15,
   "id": "3ccc6083-c12a-4788-ab03-acda94a15307",
   "metadata": {},
   "outputs": [
    {
     "data": {
      "text/plain": [
       "606046.0282123875"
      ]
     },
     "execution_count": 15,
     "metadata": {},
     "output_type": "execute_result"
    }
   ],
   "source": [
    "RMSE = np.sqrt(MSE)\n",
    "RMSE"
   ]
  },
  {
   "cell_type": "code",
   "execution_count": 16,
   "id": "777c5077-488f-4851-932d-9790257bab76",
   "metadata": {},
   "outputs": [
    {
     "data": {
      "text/plain": [
       "0.8143988095204149"
      ]
     },
     "execution_count": 16,
     "metadata": {},
     "output_type": "execute_result"
    }
   ],
   "source": [
    "MAE = mean_absolute_percentage_error(y_test, y_pred)\n",
    "MAE"
   ]
  },
  {
   "cell_type": "code",
   "execution_count": 17,
   "id": "8efc600f-3c14-4b53-9f38-8a3caf201d6c",
   "metadata": {},
   "outputs": [
    {
     "data": {
      "text/plain": [
       "0.15131941887929423"
      ]
     },
     "execution_count": 17,
     "metadata": {},
     "output_type": "execute_result"
    }
   ],
   "source": [
    "R2 = r2_score(y_test, y_pred)\n",
    "R2"
   ]
  },
  {
   "cell_type": "markdown",
   "id": "ccafe7f0-50c9-4d8a-b8f2-254c557a20a0",
   "metadata": {},
   "source": [
    "## **4. Build a decision tree based on a dataset. You choose the feature(2) and target columns yourself.**"
   ]
  },
  {
   "cell_type": "code",
   "execution_count": 18,
   "id": "4f14d04d-40dd-4c23-aa38-db68a918b4e1",
   "metadata": {},
   "outputs": [],
   "source": [
    "x = df[['year', 'km_driven']]\n",
    "y = df['selling_price']"
   ]
  },
  {
   "cell_type": "code",
   "execution_count": 19,
   "id": "d185006a-17eb-409f-aba3-87ae0b50d7ef",
   "metadata": {},
   "outputs": [],
   "source": [
    "X_train, X_test, y_train, y_test = train_test_split(x, y, test_size=0.1, random_state=1)"
   ]
  },
  {
   "cell_type": "code",
   "execution_count": 20,
   "id": "81cde283-6ad5-4da2-a3ca-523986f87010",
   "metadata": {},
   "outputs": [],
   "source": [
    "clf = DecisionTreeClassifier()\n",
    "clf = clf.fit(X_train,y_train)"
   ]
  },
  {
   "cell_type": "code",
   "execution_count": 21,
   "id": "fab8fcdf-54bf-4137-85e7-c68ed24bebfd",
   "metadata": {},
   "outputs": [],
   "source": [
    "y_pred = clf.predict(X_test)"
   ]
  },
  {
   "cell_type": "markdown",
   "id": "7b0a8449-c379-4cee-9877-06b3b73aa44d",
   "metadata": {},
   "source": [
    "## **5. Get a forecast for observation based on the decision tree method (a row instance of a dataset).**"
   ]
  },
  {
   "cell_type": "code",
   "execution_count": 22,
   "id": "a4981818-7d3b-46a7-891b-3c1023090c83",
   "metadata": {},
   "outputs": [
    {
     "data": {
      "text/plain": [
       "array([[0, 0, 0, ..., 0, 0, 0],\n",
       "       [0, 0, 0, ..., 0, 0, 0],\n",
       "       [0, 0, 0, ..., 0, 0, 0],\n",
       "       ...,\n",
       "       [0, 0, 0, ..., 0, 0, 0],\n",
       "       [0, 0, 0, ..., 0, 1, 0],\n",
       "       [0, 0, 0, ..., 0, 0, 2]])"
      ]
     },
     "execution_count": 22,
     "metadata": {},
     "output_type": "execute_result"
    }
   ],
   "source": [
    "confusion_matrix(y_test, y_pred)"
   ]
  },
  {
   "cell_type": "code",
   "execution_count": 23,
   "id": "39cbab0f-ac16-453a-8b75-30a98167ab34",
   "metadata": {},
   "outputs": [
    {
     "name": "stderr",
     "output_type": "stream",
     "text": [
      "/Users/nazgul/opt/anaconda3/lib/python3.8/site-packages/sklearn/metrics/_classification.py:1245: UndefinedMetricWarning: Precision is ill-defined and being set to 0.0 in labels with no predicted samples. Use `zero_division` parameter to control this behavior.\n",
      "  _warn_prf(average, modifier, msg_start, len(result))\n"
     ]
    },
    {
     "data": {
      "text/plain": [
       "0.18182577353561807"
      ]
     },
     "execution_count": 23,
     "metadata": {},
     "output_type": "execute_result"
    }
   ],
   "source": [
    "precision_score(y_test, y_pred, average='macro')"
   ]
  },
  {
   "cell_type": "code",
   "execution_count": 24,
   "id": "c0cf22a3-b2df-48a9-889c-ba7e8ea0cff1",
   "metadata": {},
   "outputs": [
    {
     "name": "stderr",
     "output_type": "stream",
     "text": [
      "/Users/nazgul/opt/anaconda3/lib/python3.8/site-packages/sklearn/metrics/_classification.py:1245: UndefinedMetricWarning: Recall is ill-defined and being set to 0.0 in labels with no true samples. Use `zero_division` parameter to control this behavior.\n",
      "  _warn_prf(average, modifier, msg_start, len(result))\n"
     ]
    },
    {
     "data": {
      "text/plain": [
       "0.15902822836684466"
      ]
     },
     "execution_count": 24,
     "metadata": {},
     "output_type": "execute_result"
    }
   ],
   "source": [
    "recall_score(y_test, y_pred, average='macro' )"
   ]
  },
  {
   "cell_type": "code",
   "execution_count": 25,
   "id": "2df59793-fe10-4aa0-8163-61a89b543c12",
   "metadata": {},
   "outputs": [
    {
     "data": {
      "text/plain": [
       "0.15987585472475385"
      ]
     },
     "execution_count": 25,
     "metadata": {},
     "output_type": "execute_result"
    }
   ],
   "source": [
    "f1_score(y_test, y_pred, average='macro')"
   ]
  },
  {
   "cell_type": "markdown",
   "id": "43de699e-440f-4c2b-a382-3c48a1288604",
   "metadata": {},
   "source": [
    "## **6. Generate 5 samples of 500 observations from the original data set. The lines are selected randomly and can be repeated.**"
   ]
  },
  {
   "cell_type": "code",
   "execution_count": 26,
   "id": "ace2a1ff-cac8-458a-be69-aec922a9d2ad",
   "metadata": {},
   "outputs": [],
   "source": [
    "df = df[['year', 'km_driven', 'selling_price']]"
   ]
  },
  {
   "cell_type": "code",
   "execution_count": 27,
   "id": "3f7424b6-0b81-4af0-bb54-a36b668e3f13",
   "metadata": {},
   "outputs": [],
   "source": [
    "sample1 = df.sample(n = 500)\n",
    "sample2 = df.sample(n = 500)\n",
    "sample3 = df.sample(n = 500)\n",
    "sample4 = df.sample(n = 500)\n",
    "sample5 = df.sample(n = 500)"
   ]
  },
  {
   "cell_type": "markdown",
   "id": "1526dafa-83cb-4771-b5b7-1760507b3dc9",
   "metadata": {},
   "source": [
    "## **7. Build your own decision tree for each of the samples.**"
   ]
  },
  {
   "cell_type": "code",
   "execution_count": 28,
   "id": "487477eb-0957-4a12-8836-400da3d8714d",
   "metadata": {},
   "outputs": [],
   "source": [
    "x1 = sample1[['year', 'km_driven']]\n",
    "y1 = sample1['selling_price']"
   ]
  },
  {
   "cell_type": "code",
   "execution_count": 29,
   "id": "6e40c4cd-b9e0-4e55-a3dd-842f7e92f8c4",
   "metadata": {},
   "outputs": [],
   "source": [
    "x2 = sample2[['year', 'km_driven']]\n",
    "y2 = sample2['selling_price']"
   ]
  },
  {
   "cell_type": "code",
   "execution_count": 30,
   "id": "03c56a41-6a9e-4191-8460-6ecd131159b0",
   "metadata": {},
   "outputs": [],
   "source": [
    "x3 = sample3[['year', 'km_driven']]\n",
    "y3 = sample3['selling_price']"
   ]
  },
  {
   "cell_type": "code",
   "execution_count": 31,
   "id": "ea708f36-eb7a-432f-b238-d6d1551e6034",
   "metadata": {},
   "outputs": [],
   "source": [
    "x4 = sample4[['year', 'km_driven']]\n",
    "y4 = sample4['selling_price']"
   ]
  },
  {
   "cell_type": "code",
   "execution_count": 32,
   "id": "13451c0a-bf65-4ad4-be00-59d892445321",
   "metadata": {},
   "outputs": [],
   "source": [
    "x5 = sample5[['year', 'km_driven']]\n",
    "y5 = sample5['selling_price']"
   ]
  },
  {
   "cell_type": "code",
   "execution_count": 33,
   "id": "8a4667ef-56b7-489b-8db0-7f27b979b1c4",
   "metadata": {},
   "outputs": [],
   "source": [
    "X_train_s1, X_test_s1, y_train_s1, y_test_s1 = train_test_split(x1, y1, test_size=0.1, random_state=1)"
   ]
  },
  {
   "cell_type": "code",
   "execution_count": 34,
   "id": "165060ac-842c-460e-939a-cb5bb0d2463a",
   "metadata": {},
   "outputs": [],
   "source": [
    "X_train_s2, X_test_s2, y_train_s2, y_test_s2 = train_test_split(x2, y2, test_size=0.1, random_state=1)"
   ]
  },
  {
   "cell_type": "code",
   "execution_count": 35,
   "id": "f7f7e457-359a-4dee-a196-28144fdf09ab",
   "metadata": {},
   "outputs": [],
   "source": [
    "X_train_s3, X_test_s3, y_train_s3, y_test_s3 = train_test_split(x3, y3, test_size=0.1, random_state=1)"
   ]
  },
  {
   "cell_type": "code",
   "execution_count": 36,
   "id": "6db44b56-8e0d-43b4-8d32-196dcf0e2738",
   "metadata": {},
   "outputs": [],
   "source": [
    "X_train_s4, X_test_s4, y_train_s4, y_test_s4 = train_test_split(x4, y4, test_size=0.1, random_state=1)"
   ]
  },
  {
   "cell_type": "code",
   "execution_count": 37,
   "id": "957027e3-cead-4cd8-8881-6389975342f0",
   "metadata": {},
   "outputs": [],
   "source": [
    "X_train_s5, X_test_s5, y_train_s5, y_test_s5 = train_test_split(x5, y5, test_size=0.1, random_state=1)"
   ]
  },
  {
   "cell_type": "code",
   "execution_count": 38,
   "id": "be2533df-bb27-4f98-8e00-7d88c2ce17e9",
   "metadata": {},
   "outputs": [],
   "source": [
    "clf_s1 = DecisionTreeClassifier()\n",
    "clf_s1 = clf.fit(X_train_s1,y_train_s1)"
   ]
  },
  {
   "cell_type": "code",
   "execution_count": 39,
   "id": "f9cf4713-369c-4155-abeb-54f16ada51f7",
   "metadata": {},
   "outputs": [],
   "source": [
    "clf_s2 = DecisionTreeClassifier()\n",
    "clf_s2 = clf.fit(X_train_s2,y_train_s2)"
   ]
  },
  {
   "cell_type": "code",
   "execution_count": 40,
   "id": "960df328-04ea-433d-b3cd-f5d427def135",
   "metadata": {},
   "outputs": [],
   "source": [
    "clf_s3 = DecisionTreeClassifier()\n",
    "clf_s3 = clf.fit(X_train_s3,y_train_s3)"
   ]
  },
  {
   "cell_type": "code",
   "execution_count": 41,
   "id": "b966e288-80fc-4925-bcb0-f20442dc4abe",
   "metadata": {},
   "outputs": [],
   "source": [
    "clf_s4 = DecisionTreeClassifier()\n",
    "clf_s4 = clf.fit(X_train_s4,y_train_s4)"
   ]
  },
  {
   "cell_type": "code",
   "execution_count": 42,
   "id": "e6a1f33d-61ee-4456-8b84-09d07b91a9b8",
   "metadata": {},
   "outputs": [],
   "source": [
    "clf_s5 = DecisionTreeClassifier()\n",
    "clf_s5 = clf.fit(X_train_s5,y_train_s5)"
   ]
  },
  {
   "cell_type": "code",
   "execution_count": 43,
   "id": "5d82745b-4495-4441-8fab-869425a2a8e3",
   "metadata": {},
   "outputs": [],
   "source": [
    "y_pred_s1 = clf_s1.predict(X_test_s1)"
   ]
  },
  {
   "cell_type": "code",
   "execution_count": 44,
   "id": "e5a98cbf-5c06-4ffb-87a5-c536f4a7f7b9",
   "metadata": {},
   "outputs": [],
   "source": [
    "y_pred_s2 = clf_s2.predict(X_test_s2)"
   ]
  },
  {
   "cell_type": "code",
   "execution_count": 45,
   "id": "5356d3a0-cd62-46cd-af02-e890104e44e7",
   "metadata": {},
   "outputs": [],
   "source": [
    "y_pred_s3 = clf_s3.predict(X_test_s3)"
   ]
  },
  {
   "cell_type": "code",
   "execution_count": 46,
   "id": "cca6a0af-0d26-457d-a0ed-6ca641a42384",
   "metadata": {},
   "outputs": [],
   "source": [
    "y_pred_s4 = clf_s4.predict(X_test_s4)"
   ]
  },
  {
   "cell_type": "code",
   "execution_count": 47,
   "id": "2198449a-60de-4063-96c3-845146338406",
   "metadata": {},
   "outputs": [],
   "source": [
    "y_pred_s5 = clf_s5.predict(X_test_s5)"
   ]
  },
  {
   "cell_type": "markdown",
   "id": "f3950f19-951d-41e4-a486-d4a6513b2658",
   "metadata": {},
   "source": [
    "## **8. Get a forecast for each of the tree based on one observation. Average the result.**"
   ]
  },
  {
   "cell_type": "code",
   "execution_count": 48,
   "id": "6784936d-f466-4edd-a093-2b56efaa8e08",
   "metadata": {},
   "outputs": [
    {
     "name": "stderr",
     "output_type": "stream",
     "text": [
      "/Users/nazgul/opt/anaconda3/lib/python3.8/site-packages/sklearn/metrics/_classification.py:1245: UndefinedMetricWarning: Precision is ill-defined and being set to 0.0 in labels with no predicted samples. Use `zero_division` parameter to control this behavior.\n",
      "  _warn_prf(average, modifier, msg_start, len(result))\n",
      "/Users/nazgul/opt/anaconda3/lib/python3.8/site-packages/sklearn/metrics/_classification.py:1245: UndefinedMetricWarning: Precision is ill-defined and being set to 0.0 in labels with no predicted samples. Use `zero_division` parameter to control this behavior.\n",
      "  _warn_prf(average, modifier, msg_start, len(result))\n",
      "/Users/nazgul/opt/anaconda3/lib/python3.8/site-packages/sklearn/metrics/_classification.py:1245: UndefinedMetricWarning: Precision is ill-defined and being set to 0.0 in labels with no predicted samples. Use `zero_division` parameter to control this behavior.\n",
      "  _warn_prf(average, modifier, msg_start, len(result))\n",
      "/Users/nazgul/opt/anaconda3/lib/python3.8/site-packages/sklearn/metrics/_classification.py:1245: UndefinedMetricWarning: Precision is ill-defined and being set to 0.0 in labels with no predicted samples. Use `zero_division` parameter to control this behavior.\n",
      "  _warn_prf(average, modifier, msg_start, len(result))\n",
      "/Users/nazgul/opt/anaconda3/lib/python3.8/site-packages/sklearn/metrics/_classification.py:1245: UndefinedMetricWarning: Precision is ill-defined and being set to 0.0 in labels with no predicted samples. Use `zero_division` parameter to control this behavior.\n",
      "  _warn_prf(average, modifier, msg_start, len(result))\n"
     ]
    }
   ],
   "source": [
    "ps_s1 = precision_score(y_test_s1, y_pred_s1, average='macro')\n",
    "ps_s2 = precision_score(y_test_s2, y_pred_s2, average='macro')\n",
    "ps_s3 = precision_score(y_test_s3, y_pred_s3, average='macro')\n",
    "ps_s4 = precision_score(y_test_s4, y_pred_s4, average='macro')\n",
    "ps_s5 = precision_score(y_test_s5, y_pred_s5, average='macro')"
   ]
  },
  {
   "cell_type": "code",
   "execution_count": 51,
   "id": "839c0635-d422-440b-b385-adb2dd79f7ad",
   "metadata": {},
   "outputs": [
    {
     "name": "stderr",
     "output_type": "stream",
     "text": [
      "/Users/nazgul/opt/anaconda3/lib/python3.8/site-packages/sklearn/metrics/_classification.py:1245: UndefinedMetricWarning: Recall is ill-defined and being set to 0.0 in labels with no true samples. Use `zero_division` parameter to control this behavior.\n",
      "  _warn_prf(average, modifier, msg_start, len(result))\n",
      "/Users/nazgul/opt/anaconda3/lib/python3.8/site-packages/sklearn/metrics/_classification.py:1245: UndefinedMetricWarning: Recall is ill-defined and being set to 0.0 in labels with no true samples. Use `zero_division` parameter to control this behavior.\n",
      "  _warn_prf(average, modifier, msg_start, len(result))\n",
      "/Users/nazgul/opt/anaconda3/lib/python3.8/site-packages/sklearn/metrics/_classification.py:1245: UndefinedMetricWarning: Recall is ill-defined and being set to 0.0 in labels with no true samples. Use `zero_division` parameter to control this behavior.\n",
      "  _warn_prf(average, modifier, msg_start, len(result))\n",
      "/Users/nazgul/opt/anaconda3/lib/python3.8/site-packages/sklearn/metrics/_classification.py:1245: UndefinedMetricWarning: Recall is ill-defined and being set to 0.0 in labels with no true samples. Use `zero_division` parameter to control this behavior.\n",
      "  _warn_prf(average, modifier, msg_start, len(result))\n",
      "/Users/nazgul/opt/anaconda3/lib/python3.8/site-packages/sklearn/metrics/_classification.py:1245: UndefinedMetricWarning: Recall is ill-defined and being set to 0.0 in labels with no true samples. Use `zero_division` parameter to control this behavior.\n",
      "  _warn_prf(average, modifier, msg_start, len(result))\n"
     ]
    }
   ],
   "source": [
    "rs_s1 = recall_score(y_test_s1, y_pred_s1, average='macro')\n",
    "rs_s2 = recall_score(y_test_s2, y_pred_s2, average='macro')\n",
    "rs_s3 = recall_score(y_test_s3, y_pred_s3, average='macro')\n",
    "rs_s4 = recall_score(y_test_s4, y_pred_s4, average='macro')\n",
    "rs_s5 = recall_score(y_test_s5, y_pred_s5, average='macro')"
   ]
  },
  {
   "cell_type": "code",
   "execution_count": 53,
   "id": "ac7296ef-0183-43a0-ad62-628002af87a8",
   "metadata": {},
   "outputs": [],
   "source": [
    "f1_s1 = f1_score(y_test_s1, y_pred_s1, average='macro')\n",
    "f1_s2 = f1_score(y_test_s2, y_pred_s2, average='macro')\n",
    "f1_s3 = f1_score(y_test_s3, y_pred_s3, average='macro')\n",
    "f1_s4 = f1_score(y_test_s4, y_pred_s4, average='macro')\n",
    "f1_s5 = f1_score(y_test_s5, y_pred_s5, average='macro')"
   ]
  },
  {
   "cell_type": "markdown",
   "id": "e707503f-7bd8-4289-a5af-deff82226418",
   "metadata": {},
   "source": [
    "## **9. Analysis and comparison of results**"
   ]
  },
  {
   "cell_type": "code",
   "execution_count": 58,
   "id": "7ed0fff3-fffa-485d-9dcf-fa371d8d52fd",
   "metadata": {},
   "outputs": [
    {
     "data": {
      "text/html": [
       "<div>\n",
       "<style scoped>\n",
       "    .dataframe tbody tr th:only-of-type {\n",
       "        vertical-align: middle;\n",
       "    }\n",
       "\n",
       "    .dataframe tbody tr th {\n",
       "        vertical-align: top;\n",
       "    }\n",
       "\n",
       "    .dataframe thead th {\n",
       "        text-align: right;\n",
       "    }\n",
       "</style>\n",
       "<table border=\"1\" class=\"dataframe\">\n",
       "  <thead>\n",
       "    <tr style=\"text-align: right;\">\n",
       "      <th></th>\n",
       "      <th>precision_score</th>\n",
       "      <th>recall</th>\n",
       "      <th>f1</th>\n",
       "    </tr>\n",
       "  </thead>\n",
       "  <tbody>\n",
       "    <tr>\n",
       "      <th>0</th>\n",
       "      <td>0.113636</td>\n",
       "      <td>0.119697</td>\n",
       "      <td>0.110303</td>\n",
       "    </tr>\n",
       "    <tr>\n",
       "      <th>1</th>\n",
       "      <td>0.067797</td>\n",
       "      <td>0.050847</td>\n",
       "      <td>0.054883</td>\n",
       "    </tr>\n",
       "    <tr>\n",
       "      <th>2</th>\n",
       "      <td>0.142473</td>\n",
       "      <td>0.145161</td>\n",
       "      <td>0.137097</td>\n",
       "    </tr>\n",
       "    <tr>\n",
       "      <th>3</th>\n",
       "      <td>0.031746</td>\n",
       "      <td>0.047619</td>\n",
       "      <td>0.037037</td>\n",
       "    </tr>\n",
       "    <tr>\n",
       "      <th>4</th>\n",
       "      <td>0.070175</td>\n",
       "      <td>0.064912</td>\n",
       "      <td>0.063492</td>\n",
       "    </tr>\n",
       "  </tbody>\n",
       "</table>\n",
       "</div>"
      ],
      "text/plain": [
       "   precision_score    recall        f1\n",
       "0         0.113636  0.119697  0.110303\n",
       "1         0.067797  0.050847  0.054883\n",
       "2         0.142473  0.145161  0.137097\n",
       "3         0.031746  0.047619  0.037037\n",
       "4         0.070175  0.064912  0.063492"
      ]
     },
     "execution_count": 58,
     "metadata": {},
     "output_type": "execute_result"
    }
   ],
   "source": [
    "precision_score = [ps_s1, ps_s2, ps_s3, ps_s4, ps_s5]\n",
    "recall = [rs_s1, rs_s2, rs_s3, rs_s4, rs_s5]\n",
    "f1 = [f1_s1, f1_s2, f1_s3, f1_s4, f1_s5]\n",
    "\n",
    "df = pd.DataFrame(list(zip(precision_score, recall, f1)),columns =['precision_score', 'recall', 'f1']) \n",
    "df"
   ]
  }
 ],
 "metadata": {
  "kernelspec": {
   "display_name": "Python 3",
   "language": "python",
   "name": "python3"
  },
  "language_info": {
   "codemirror_mode": {
    "name": "ipython",
    "version": 3
   },
   "file_extension": ".py",
   "mimetype": "text/x-python",
   "name": "python",
   "nbconvert_exporter": "python",
   "pygments_lexer": "ipython3",
   "version": "3.8.8"
  }
 },
 "nbformat": 4,
 "nbformat_minor": 5
}
